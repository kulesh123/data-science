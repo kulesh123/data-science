{
 "cells": [
  {
   "cell_type": "code",
   "execution_count": 1,
   "id": "067f474e",
   "metadata": {},
   "outputs": [
    {
     "ename": "SyntaxError",
     "evalue": "invalid syntax. Perhaps you forgot a comma? (1344024011.py, line 1)",
     "output_type": "error",
     "traceback": [
      "\u001b[1;36m  Cell \u001b[1;32mIn[1], line 1\u001b[1;36m\u001b[0m\n\u001b[1;33m    data=(data science)\u001b[0m\n\u001b[1;37m          ^\u001b[0m\n\u001b[1;31mSyntaxError\u001b[0m\u001b[1;31m:\u001b[0m invalid syntax. Perhaps you forgot a comma?\n"
     ]
    }
   ],
   "source": [
    "data=(data science)"
   ]
  },
  {
   "cell_type": "code",
   "execution_count": 2,
   "id": "cee33065",
   "metadata": {},
   "outputs": [],
   "source": [
    "data=(\"data\")"
   ]
  },
  {
   "cell_type": "code",
   "execution_count": 3,
   "id": "166c5c34",
   "metadata": {},
   "outputs": [],
   "source": [
    "data=\"data\""
   ]
  },
  {
   "cell_type": "code",
   "execution_count": 4,
   "id": "2436bbab",
   "metadata": {},
   "outputs": [],
   "source": [
    "data=\"science\""
   ]
  },
  {
   "cell_type": "code",
   "execution_count": 5,
   "id": "2769e123",
   "metadata": {},
   "outputs": [
    {
     "ename": "SyntaxError",
     "evalue": "cannot assign to function call (2731440966.py, line 1)",
     "output_type": "error",
     "traceback": [
      "\u001b[1;36m  Cell \u001b[1;32mIn[5], line 1\u001b[1;36m\u001b[0m\n\u001b[1;33m    print(data)=\u001b[0m\n\u001b[1;37m    ^\u001b[0m\n\u001b[1;31mSyntaxError\u001b[0m\u001b[1;31m:\u001b[0m cannot assign to function call\n"
     ]
    }
   ],
   "source": [
    "print(data)="
   ]
  },
  {
   "cell_type": "code",
   "execution_count": 6,
   "id": "d4b1c0fb",
   "metadata": {},
   "outputs": [
    {
     "name": "stdout",
     "output_type": "stream",
     "text": [
      "science\n"
     ]
    }
   ],
   "source": [
    "print(data)"
   ]
  },
  {
   "cell_type": "code",
   "execution_count": 7,
   "id": "4d880527",
   "metadata": {},
   "outputs": [],
   "source": [
    "name=\"kulesh\""
   ]
  },
  {
   "cell_type": "code",
   "execution_count": 8,
   "id": "04a59104",
   "metadata": {},
   "outputs": [
    {
     "name": "stdout",
     "output_type": "stream",
     "text": [
      "kulesh\n"
     ]
    }
   ],
   "source": [
    "print(name)"
   ]
  },
  {
   "cell_type": "code",
   "execution_count": 9,
   "id": "072c7705",
   "metadata": {},
   "outputs": [],
   "source": [
    "data=\"welcome to data sceince\""
   ]
  },
  {
   "cell_type": "code",
   "execution_count": 10,
   "id": "f417416c",
   "metadata": {},
   "outputs": [
    {
     "name": "stdout",
     "output_type": "stream",
     "text": [
      "welcome to data sceince\n"
     ]
    }
   ],
   "source": [
    "print(data)"
   ]
  },
  {
   "cell_type": "code",
   "execution_count": 11,
   "id": "7950e762",
   "metadata": {},
   "outputs": [],
   "source": [
    "name=\"my name is kulesh kumar yadav\""
   ]
  },
  {
   "cell_type": "code",
   "execution_count": 12,
   "id": "16339e8d",
   "metadata": {},
   "outputs": [
    {
     "name": "stdout",
     "output_type": "stream",
     "text": [
      "my name is kulesh kumar yadav\n"
     ]
    }
   ],
   "source": [
    "print(name)"
   ]
  },
  {
   "cell_type": "code",
   "execution_count": 14,
   "id": "a612d39f",
   "metadata": {},
   "outputs": [],
   "source": [
    "whyweareusingthepython=\"this is the english langauge \""
   ]
  },
  {
   "cell_type": "code",
   "execution_count": null,
   "id": "2d6cb350",
   "metadata": {},
   "outputs": [],
   "source": []
  }
 ],
 "metadata": {
  "kernelspec": {
   "display_name": "Python 3 (ipykernel)",
   "language": "python",
   "name": "python3"
  },
  "language_info": {
   "codemirror_mode": {
    "name": "ipython",
    "version": 3
   },
   "file_extension": ".py",
   "mimetype": "text/x-python",
   "name": "python",
   "nbconvert_exporter": "python",
   "pygments_lexer": "ipython3",
   "version": "3.10.9"
  }
 },
 "nbformat": 4,
 "nbformat_minor": 5
}
